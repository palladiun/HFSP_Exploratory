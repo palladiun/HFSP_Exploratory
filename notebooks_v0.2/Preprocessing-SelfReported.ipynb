{
 "cells": [
  {
   "cell_type": "markdown",
   "metadata": {},
   "source": [
    "# Preprocessing of self reported answers and performance\n",
    "\n",
    "This file creates a numpy array that associates the self reported answers to its corresponding task. This association is done per subject. Therefore for every subject there are four rows that describe these tasks and answers in numerical form.\n",
    "\n",
    "Each in row in addition to include the self reported answers, it also has the performance obtained by that subject on an specific task and the number of times it was selected. For consistency, the latter is included whether it is relevant or not (e.g. during training or testing the number of times a task is selected is the same for all of them).\n",
    "\n",
    "In order to obtain those metrics, six columns are extracted from the trial by trial file:\n",
    "\n",
    "- id\n",
    "- whether the subject has been informed about a random task or not\n",
    "- task family\n",
    "- task category\n",
    "- answer"
   ]
  },
  {
   "cell_type": "code",
   "execution_count": 145,
   "metadata": {
    "collapsed": false
   },
   "outputs": [],
   "source": [
    "%matplotlib inline\n",
    "import numpy as np\n",
    "import matplotlib.pyplot as plt\n",
    "from matplotlib import rcParams\n",
    "import pandas as pd\n",
    "import warnings\n",
    "\n",
    "from ipywidgets import widgets\n",
    "from IPython.html.widgets import *\n",
    "from __future__ import division\n",
    "\n",
    "warnings.filterwarnings('ignore')\n",
    "rcParams.update({'font.size': 15})\n",
    "#plt.style.use('ggplot')\n",
    "#plt.style.use('seaborn-dark-palette')\n",
    "plt.style.use('fivethirtyeight')\n",
    "\n",
    "float_formatter = lambda x: \"%.2f\" % x\n",
    "np.set_printoptions(formatter={'float_kind':float_formatter})\n",
    "np.set_printoptions(precision=2)"
   ]
  },
  {
   "cell_type": "code",
   "execution_count": 151,
   "metadata": {
    "collapsed": true
   },
   "outputs": [],
   "source": [
    "TASKS = 4\n",
    "USERS = 201\n",
    "PHASE = 'exploration'\n",
    "\n",
    "\n",
    "# Indicate for which modality you want to generate the files\n",
    "TYPE = 's' #s=strategic, ft=free exploration and training, f = free exploration\n",
    "\n",
    "if TYPE == 's':\n",
    "    dphase = {'exploration':0, 'test':1, 'train':2}\n",
    "    csvFile = '../monster task data/Strategic/monsters_data_strategic_052217.csv'\n",
    "elif TYPE == 'ft':\n",
    "    dphase = {'exploration':0, 'train':1}\n",
    "    csvFile = '../monster task data/Free with Familiarization/monsters_data_free_familiarize_05232017.csv'\n",
    "elif TYPE == 'f':\n",
    "    dphase = {'exploration':0}\n",
    "    csvFile = '../monster task data/Free Only/monsters_data_free_only_052417.csv'"
   ]
  },
  {
   "cell_type": "markdown",
   "metadata": {},
   "source": [
    "## Preprocess trial instances\n",
    " \n",
    "* metricsUser contains \n",
    "    * User\n",
    "    * condition\n",
    "    * Task category\n",
    "    * Times task selected\n",
    "    * % Selection\n",
    "    * #Times correct on this task\n",
    "    * % Correct"
   ]
  },
  {
   "cell_type": "code",
   "execution_count": 152,
   "metadata": {
    "collapsed": false
   },
   "outputs": [
    {
     "name": "stdout",
     "output_type": "stream",
     "text": [
      "[0 1 2 3]\n",
      "201\n"
     ]
    }
   ],
   "source": [
    "def stringToInt(arr, position, values):\n",
    "    for i, v in enumerate(values):\n",
    "        arr[arr[:,position] == v, position] = i\n",
    "    return arr\n",
    "np.set_printoptions(precision=4)\n",
    "# get id(0), condition(1), phase(2), family(7), category(8), correct(11)\n",
    "csv = np.genfromtxt(csvFile, dtype=np.string_, delimiter=',', usecols=(0,1,2,7,8,11), skip_header=1)\n",
    "\n",
    "# Get monster type\n",
    "monsters = [m for m in np.unique(csv[:,3])]\n",
    "# Get category\n",
    "categories = [b'category1D', b'categoryIgnore1D', b'category2D', b'categoryRandom']\n",
    "# Get ids\n",
    "ids = [i for i in np.unique(csv[:,0]) ]\n",
    "# Get condition\n",
    "cond = [co for co in np.unique(csv[:,1]) ]\n",
    "# Get unique phases\n",
    "phases = [p for p in np.unique(csv[:,2]) ]\n",
    "# For converting string to int boolean\n",
    "bo = [b'False', b'True']\n",
    "\n",
    "csvInt = csv.copy() \n",
    "# Convert fields to ints for easy processing\n",
    "for i,j in enumerate([ids, cond, phases, monsters, categories, bo]):\n",
    "    csvInt = stringToInt(csvInt, i, j)\n",
    "csvInt = csvInt.astype('int')\n",
    "\n",
    "\n",
    "#get dphase\n",
    "csvInt = csvInt[csvInt[:, 2] == dphase[PHASE]]\n",
    "splitCsv = [csvInt[csvInt[:,0]==i] for i in np.unique(csvInt[:,0])]\n",
    "\n",
    "print np.unique(splitCsv[0][:,4])\n",
    "print np.shape(splitCsv)[0]\n",
    "\n",
    "metricsUser = []\n",
    "cuser = 0\n",
    "i=0\n",
    "# get id(0), condition(1), phase(2), family(7), category(8), correct(11)\n",
    "for user in range(np.shape(splitCsv)[0]):\n",
    "#for user in range(1):\n",
    "    questions = splitCsv[user]\n",
    "    #print questions[0,1],questions[0][1]\n",
    "    task, ctask = np.unique(questions[:,4], return_counts=True)\n",
    "    #print task, ctask\n",
    "    \n",
    "    metricsTask = []\n",
    "    # Count number of times the answer was correct per task and percent\n",
    "    for t in range(TASKS):\n",
    "       \n",
    "        correct = np.sum(questions[questions[:,4] == t,5] == 1) \n",
    "        total = np.sum(questions[:,4] == t)\n",
    "        # get id(0), condition(1), family(7), category(8), correct(11)\n",
    "        if t in task:\n",
    "            # Task category, times task selected, % selection, #times correct on this task, % correct\n",
    "            metricsTask.append([user, questions[0][1], t, ctask[np.where(task==t)][0], round(float(ctask[np.where(task==t)][0])/np.shape(questions)[0],2), correct, round(np.nan_to_num(correct/total),2)])\n",
    "        else:\n",
    "            metricsTask.append([user,  questions[0][1], t, 0., 0., correct, np.nan_to_num(correct/total)])\n",
    "    metricsUser.append(metricsTask)\n",
    "\n"
   ]
  },
  {
   "cell_type": "markdown",
   "metadata": {},
   "source": [
    "## Preprocess self reported data"
   ]
  },
  {
   "cell_type": "code",
   "execution_count": 153,
   "metadata": {
    "collapsed": false
   },
   "outputs": [
    {
     "name": "stdout",
     "output_type": "stream",
     "text": [
      "(74370, 6)\n"
     ]
    }
   ],
   "source": [
    "# Subjective data\n",
    "\n",
    "if TYPE == 's':\n",
    "    csvFile = '../monster task data/Strategic/monsters_extra_data_strategic_052217.csv'\n",
    "elif TYPE == 'ft':\n",
    "    csvFile = '../monster task data/Free with Familiarization/monsters_extra_data_free_familiarize_05232017.csv'\n",
    "else:\n",
    "    csvFile = '../monster task data/Free Only/monsters_extra_data_free_only_05242017.csv'\n",
    "\n",
    "    \n",
    "scsv = np.genfromtxt(csvFile, dtype=np.string_, delimiter=',', skip_header=1, usecols=range(30))\n",
    "\n",
    "\n",
    "# For those people that did not explore all tasks we still have to find a way to know what monster corresponds\n",
    "# to what category so get that information from training/testing phase\n",
    "# csv us main file\n",
    "\n",
    "# get id(0), condition(1), phase(2), family(7), category(8), correct(11)\n",
    "csvInt2 = csv.copy()\n",
    "print csv.shape\n",
    "# Convert fields to ints for easy processing\n",
    "for i,j in enumerate([ids, cond, phases, monsters, categories, bo]):\n",
    "    csvInt2 = stringToInt(csvInt2, i, j)\n",
    "    \n",
    "csvInt2 = csvInt2.astype('int')\n",
    "\n",
    "# Get only those in free exploration phase\n",
    "# when free\n",
    "csvInt2 = csvInt2[csvInt2[:, 2]==dphase['train']]\n",
    "# Split by user\n",
    "splitCsv = [csvInt2[csvInt2[:,0]==i] for i in np.unique(csvInt2[:,0])]\n",
    "# each row consists of uid, monster family, task category, answers for that category\n",
    "postCsv = []\n",
    "X=[]\n",
    "q=[]\n",
    "i=0\n",
    "#np.shape(splitCsv)[0]\n",
    "for user in range(np.shape(splitCsv)[0]):\n",
    "    # id(0), condition (1), phase (2), family(3), category(4), correct(5)\n",
    "    # Get monster family and task category\n",
    "    #family(1), category(2)\n",
    "    questions = splitCsv[user][:,3:5]\n",
    "    #print questions\n",
    "    #print questions[:,0]\n",
    "    postQ = scsv[user]\n",
    "    \n",
    "    #find mapping of monster and task category\n",
    "    _, mIdx = np.unique(questions[:,0], return_index=True)\n",
    "    \n",
    "    #_, cIdx = np.unique(questions[:,0], return_index=True)\n",
    "    _, cIdx = np.unique(questions[:,1], return_index=True)\n",
    "    #print mIdx,cIdx\n",
    "    #print \"midX\",questions[np.sort(cIdx),1]\n",
    "    # stack monster type, complexity type\n",
    "    moncat = np.vstack((questions[np.sort(mIdx),0], questions[np.sort(cIdx),1])).T\n",
    "    #print \"moncat\",moncat\n",
    "    #print \"moncat2\",moncat[moncat[:,0].argsort()]\n",
    "    moncat = moncat[moncat[:,0].argsort()]\n",
    "    #print moncat\n",
    "    q.append(moncat)\n",
    "    for n, mon in enumerate(moncat[:,0]):\n",
    "        if TYPE == 'ft':\n",
    "            #Use this when ALL answer columns are used\n",
    "            answ = postQ[n*7+2:7*(n+1)+2]\n",
    "        else:\n",
    "            answ = postQ[n*7+2:7*(n+1)+2]\n",
    "        # stack user id, monster id, category id, answers for that category\n",
    "        #print \"answ\",answ\n",
    "        postCsv.append(np.hstack((user, mon, moncat[n,1], answ.tolist())).tolist())\n",
    "    \n",
    "\n",
    "\n",
    "\n"
   ]
  },
  {
   "cell_type": "code",
   "execution_count": 154,
   "metadata": {
    "collapsed": false
   },
   "outputs": [
    {
     "name": "stdout",
     "output_type": "stream",
     "text": [
      "[  0.     1.     0.    65.     0.26  48.     0.74   8.     4.     7.    10.\n",
      "  10.     9.     3.  ]\n"
     ]
    }
   ],
   "source": [
    "postCsv = np.asarray(postCsv)\n",
    "float_formatter = lambda x: \"%.2f\" % x\n",
    "np.set_printoptions(formatter={'float_kind':float_formatter})\n",
    "np.set_printoptions(precision=2)\n",
    "\n",
    "#print metricsUser[0][0]\n",
    "metricsUser = np.asarray(metricsUser, dtype='float')\n",
    "NUSERS = np.shape(metricsUser)[0]\n",
    "postCsv = postCsv.astype('float')\n",
    "\n",
    "# Order by first column (id) and then by third column (category task complexity)\n",
    "postCsv = postCsv[np.lexsort((postCsv[:,2], postCsv[:,0]))]\n",
    "\n",
    "# user, condition, category task (complexity), #times task selected, % selection, #times correct on this task, % correct\n",
    "\n",
    "#print \"metr\",metricsUser.shape\n",
    "#print NUSERS\n",
    "metricsUser = metricsUser.reshape(NUSERS*TASKS,7)\n",
    "\n",
    "# Check that columns (user and task category complexity) are the same in order to fusion them\n",
    "if np.array_equal(metricsUser[:,0], postCsv[:,0]) and np.array_equal(metricsUser[:,2], postCsv[:,2]):\n",
    "    finalStats = np.hstack((metricsUser, postCsv[:,3:]))    \n",
    "else:\n",
    "    print np.shape(metricsUser[:,0]),np.shape(postCsv[:,0]) \n",
    "    print('ERROR: columns do not match, someone did not select all tasks')\n",
    "print finalStats[0]"
   ]
  },
  {
   "cell_type": "markdown",
   "metadata": {},
   "source": [
    "## Saving numpy arrays"
   ]
  },
  {
   "cell_type": "code",
   "execution_count": 155,
   "metadata": {
    "collapsed": false
   },
   "outputs": [
    {
     "data": {
      "text/plain": [
       "\"\\nif TYPE == 's':\\n    if PHASE == 'train': \\n        np.savetxt('strategic-train.txt', finalStats)\\n    elif PHASE == 'test':\\n        np.savetxt('strategic-test.txt', finalStats)\\n    else:\\n        np.savetxt('strategic-free.txt', metricsUser)\\nelif TYPE == 'ft':\\n    if PHASE == 'train':\\n        np.savetxt('freeTrain-train.txt', finalStats)\\n    elif PHASE == 'exploration':\\n        np.savetxt('freeTrain-free.txt', metricsUser)\\nelif TYPE == 'f':\\n    if PHASE == 'train':\\n        np.savetxt('strategic-train.txt', finalStats)\\n    elif PHASE == 'test':\\n        np.savetxt('strategic-test.txt', finalStats)\\n    else:\\n        #np.savetxt('free-free.txt', metricsUser)\\n        np.savetxt('free-free.txt', finalStats)\\n\""
      ]
     },
     "execution_count": 155,
     "metadata": {},
     "output_type": "execute_result"
    }
   ],
   "source": [
    "if TYPE == 'ft':\n",
    "    if PHASE == 'train':\n",
    "        #np.savetxt('freeTrain-train.txt', finalStats)\n",
    "        np.savetxt(\"freeTrain-train_0.4.csv\",finalStats, delimiter=\",\",header=\"user,condition,Task category, times task selected, % selection, #times correct on this task, % correct,interested,complex,time,progress,rule,future-learn-0,future-learn-1\")\n",
    "    \n",
    "    elif PHASE == 'exploration':\n",
    "        np.savetxt('freeTrain-free_0.4.csv', metricsUser,delimiter=\",\",header=\"user,condition,Task category, times task selected, % selection, #times correct on this task, % correct\")\n",
    "\n",
    "if TYPE == 's':\n",
    "    if PHASE == 'train': \n",
    "        np.savetxt('strategic-train_0.4.csv', finalStats,delimiter=\",\",header=\"user,condition,Task category, times task selected, % selection, #times correct on this task, % correct,interested,complex,time,progress,rule,future-learn-0,future-learn-1\")\n",
    "    elif PHASE == 'test':\n",
    "        np.savetxt('strategic-test_0.4.csv', finalStats,delimiter=\",\",header=\"user,condition,Task category, times task selected, % selection, #times correct on this task, % correct,interested,complex,time,progress,rule,future-learn-0,future-learn-1\")\n",
    "    else:\n",
    "        np.savetxt('strategic-free_0.4.csv', metricsUser,delimiter=\",\",header=\"user,condition,Task category, times task selected, % selection, #times correct on this task, % correct\")        \n",
    "\n",
    "elif TYPE == 'f':\n",
    "    if PHASE == 'exploration':\n",
    "        np.savetxt('free-free_0.4.csv', finalStats)\n",
    "\n",
    "\n",
    "'''\n",
    "if TYPE == 's':\n",
    "    if PHASE == 'train': \n",
    "        np.savetxt('strategic-train.txt', finalStats)\n",
    "    elif PHASE == 'test':\n",
    "        np.savetxt('strategic-test.txt', finalStats)\n",
    "    else:\n",
    "        np.savetxt('strategic-free.txt', metricsUser)\n",
    "elif TYPE == 'ft':\n",
    "    if PHASE == 'train':\n",
    "        np.savetxt('freeTrain-train.txt', finalStats)\n",
    "    elif PHASE == 'exploration':\n",
    "        np.savetxt('freeTrain-free.txt', metricsUser)\n",
    "elif TYPE == 'f':\n",
    "    if PHASE == 'train':\n",
    "        np.savetxt('strategic-train.txt', finalStats)\n",
    "    elif PHASE == 'test':\n",
    "        np.savetxt('strategic-test.txt', finalStats)\n",
    "    else:\n",
    "        #np.savetxt('free-free.txt', metricsUser)\n",
    "        np.savetxt('free-free.txt', finalStats)\n",
    "'''"
   ]
  },
  {
   "cell_type": "code",
   "execution_count": null,
   "metadata": {
    "collapsed": true
   },
   "outputs": [],
   "source": []
  }
 ],
 "metadata": {
  "kernelspec": {
   "display_name": "Python 2",
   "language": "python",
   "name": "python2"
  },
  "language_info": {
   "codemirror_mode": {
    "name": "ipython",
    "version": 2
   },
   "file_extension": ".py",
   "mimetype": "text/x-python",
   "name": "python",
   "nbconvert_exporter": "python",
   "pygments_lexer": "ipython2",
   "version": "2.7.12"
  }
 },
 "nbformat": 4,
 "nbformat_minor": 0
}

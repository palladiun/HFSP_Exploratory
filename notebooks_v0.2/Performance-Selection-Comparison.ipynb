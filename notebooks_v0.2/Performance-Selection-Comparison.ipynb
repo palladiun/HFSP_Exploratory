{
 "cells": [
  {
   "cell_type": "markdown",
   "metadata": {},
   "source": [
    "# Performance and Selection Comparison (Free Exploration, Free Exploration with Training and Strategic)\n",
    "\n",
    "[Final Performance per task (Testing phase or last trials)](#A1)\n",
    "\n",
    "[Average General and Final Performance](#A2)\n",
    "\n",
    "[Average task Selection](#A3)"
   ]
  },
  {
   "cell_type": "code",
   "execution_count": 2,
   "metadata": {
    "collapsed": false
   },
   "outputs": [
    {
     "name": "stderr",
     "output_type": "stream",
     "text": [
      "/usr/lib/python2.7/dist-packages/matplotlib/font_manager.py:273: UserWarning: Matplotlib is building the font cache using fc-list. This may take a moment.\n",
      "  warnings.warn('Matplotlib is building the font cache using fc-list. This may take a moment.')\n",
      "/usr/local/lib/python2.7/dist-packages/IPython/html.py:14: ShimWarning: The `IPython.html` package has been deprecated. You should import from `notebook` instead. `IPython.html.widgets` has moved to `ipywidgets`.\n",
      "  \"`IPython.html.widgets` has moved to `ipywidgets`.\", ShimWarning)\n"
     ]
    }
   ],
   "source": [
    "%matplotlib inline\n",
    "import numpy as np\n",
    "import matplotlib.pyplot as plt\n",
    "import matplotlib.cm as cm\n",
    "from matplotlib import rcParams\n",
    "import pandas as pd\n",
    "import warnings\n",
    "\n",
    "from scipy.stats import beta\n",
    "\n",
    "from ipywidgets import widgets\n",
    "from IPython.html.widgets import *\n",
    "\n",
    "warnings.filterwarnings('ignore')\n",
    "rcParams.update({'font.size': 15})\n",
    "#plt.style.use('ggplot')\n",
    "#plt.style.use('seaborn-dark-palette')\n",
    "plt.style.use('fivethirtyeight')\n",
    "\n",
    "float_formatter = lambda x: \"%.2f\" % x\n",
    "np.set_printoptions(formatter={'float_kind':float_formatter})\n",
    "np.set_printoptions(precision=2)\n",
    "\n",
    "import io\n",
    "from IPython.nbformat import current\n",
    "\n",
    "def execute_notebook(nbfile):\n",
    "    \n",
    "    with io.open(nbfile) as f:\n",
    "        nb = current.read(f, 'json')\n",
    "    \n",
    "    ip = get_ipython()\n",
    "    \n",
    "    for cell in nb.worksheets[0].cells:\n",
    "        if cell.cell_type != 'code':\n",
    "            continue\n",
    "        ip.run_cell(cell.input)"
   ]
  },
  {
   "cell_type": "code",
   "execution_count": 3,
   "metadata": {
    "collapsed": false
   },
   "outputs": [
    {
     "name": "stdout",
     "output_type": "stream",
     "text": [
      "['free']\n",
      "250\n",
      "['free', 'train']\n",
      "['free', 'test', 'train']\n"
     ]
    }
   ],
   "source": [
    "execute_notebook(\"Preprocessing.ipynb\")"
   ]
  },
  {
   "cell_type": "code",
   "execution_count": 4,
   "metadata": {
    "collapsed": false
   },
   "outputs": [],
   "source": [
    "tasks = 4\n",
    "catLab = ['1D', 'I1D', '2D', 'R']\n",
    "\n",
    "usersF = np.shape(np.unique(csvIntF[:,0]))[0]\n",
    "# For free exploration with Training\n",
    "usersFT = np.shape(np.unique(csvIntFT[:,0]))[0]\n",
    "usersFTI = np.shape(np.unique(informed[:,0]))[0]\n",
    "usersFTU = usersFT-usersFTI\n",
    "# For strategic learning\n",
    "usersS = np.shape(np.unique(csvIntS[:,0]))[0]\n",
    "usersSI = np.shape(np.unique(informedSE[:,0]))[0]\n",
    "usersSU = usersS-usersSI"
   ]
  },
  {
   "cell_type": "markdown",
   "metadata": {},
   "source": [
    "#### Load combined data"
   ]
  },
  {
   "cell_type": "code",
   "execution_count": 5,
   "metadata": {
    "collapsed": false
   },
   "outputs": [
    {
     "name": "stdout",
     "output_type": "stream",
     "text": [
      "Free Exploration - general metrics loaded\n",
      "Free Exploration with Training - general metrics loaded\n",
      "Strategic Learning - general metrics loaded\n"
     ]
    }
   ],
   "source": [
    "execute_notebook(\"Preprocessing-Stack Data.ipynb\")"
   ]
  },
  {
   "cell_type": "markdown",
   "metadata": {},
   "source": [
    "#### Split by information (free exp with training)"
   ]
  },
  {
   "cell_type": "code",
   "execution_count": 6,
   "metadata": {
    "collapsed": true
   },
   "outputs": [],
   "source": [
    "# Split by users that received information about the existence of a random task and those that didn't\n",
    "informedFT = freeT[freeT[:,1]==0]\n",
    "uninformedFT = freeT[freeT[:,1]==1]\n",
    "# Remove column \n",
    "freeT = np.delete(freeT, 1, axis=1)\n",
    "informedFT = np.delete(informedFT, 1, axis=1)\n",
    "uninformedFT = np.delete(uninformedFT, 1, axis=1)\n",
    "free = np.delete(free, 1, axis=1)"
   ]
  },
  {
   "cell_type": "markdown",
   "metadata": {},
   "source": [
    "#### Split by information (strategic learning)"
   ]
  },
  {
   "cell_type": "code",
   "execution_count": 7,
   "metadata": {
    "collapsed": true
   },
   "outputs": [],
   "source": [
    "# Split by users that received information about the existence of a random task and those that didn't\n",
    "informedS = stra[stra[:,1]==0]\n",
    "uninformedS = stra[stra[:,1]==1]\n",
    "# Remove column (condition)\n",
    "stra = np.delete(stra, 1, axis=1)\n",
    "informedS = np.delete(informedS, 1, axis=1)\n",
    "uninformedS = np.delete(uninformedS, 1, axis=1)"
   ]
  },
  {
   "cell_type": "markdown",
   "metadata": {},
   "source": [
    "<a id='A1'></a>\n",
    "## Final Performance "
   ]
  },
  {
   "cell_type": "code",
   "execution_count": 11,
   "metadata": {
    "collapsed": false
   },
   "outputs": [],
   "source": [
    "# User, task category, right or wrong\n",
    "#*****************\n",
    "'''\n",
    "splitFTFI = splitCsvFTI.copy()\n",
    "splitFTFU = splitCsvFTU.copy()\n",
    "splitFF = splitCsvF.copy()\n",
    "'''\n",
    "splitFTFI = splitCsvFTI\n",
    "splitFTFU = splitCsvFTU\n",
    "splitFF = splitCsvF"
   ]
  },
  {
   "cell_type": "markdown",
   "metadata": {},
   "source": [
    "#### Preprocessing Strategic testing phase"
   ]
  },
  {
   "cell_type": "code",
   "execution_count": 12,
   "metadata": {
    "collapsed": true
   },
   "outputs": [],
   "source": [
    "# Get a copy for splitting by condition (below)\n",
    "csvIntSTeCond = csvIntSTe.copy()\n",
    "\n",
    "# Remove phase column (2) (and for now also the condition column (1))\n",
    "csvIntSTe = np.delete(csvIntSTe, (1,2), axis=1)\n",
    "\n",
    "# Split by user\n",
    "splitCsvSTe = [csvIntSTe[csvIntSTe[:,0]==i] for i in np.unique(csvIntSTe[:,0])]\n",
    "\n",
    "# Split by condition\n",
    "csvIntSTeCond = np.delete(csvIntSTeCond, 2, axis = 1)\n",
    "informedSTe = csvIntSTeCond[csvIntSTeCond[:,1]==0]\n",
    "uninformedSTe = csvIntSTeCond[csvIntSTeCond[:,1]==1]\n",
    "informedSTe = np.delete(informedSTe, 1, axis=1)\n",
    "uninformedSTe = np.delete(uninformedSTe, 1, axis=1)\n",
    "# Split also by user\n",
    "splitInfSTe = [informedSTe[informedSTe[:,0]==i] for i in np.unique(informedSTe[:,0])]\n",
    "splitUniSTe = [uninformedSTe[uninformedSTe[:,0]==i] for i in np.unique(uninformedSTe[:,0])]"
   ]
  },
  {
   "cell_type": "code",
   "execution_count": 13,
   "metadata": {
    "collapsed": false
   },
   "outputs": [
    {
     "ename": "IndexError",
     "evalue": "index 1 is out of bounds for axis 1 with size 1",
     "output_type": "error",
     "traceback": [
      "\u001b[1;31m---------------------------------------------------------------------------\u001b[0m",
      "\u001b[1;31mIndexError\u001b[0m                                Traceback (most recent call last)",
      "\u001b[1;32m<ipython-input-13-cde3f09bd52c>\u001b[0m in \u001b[0;36m<module>\u001b[1;34m()\u001b[0m\n\u001b[0;32m     40\u001b[0m \u001b[0mpcfinFTFU\u001b[0m \u001b[1;33m=\u001b[0m \u001b[0mnp\u001b[0m\u001b[1;33m.\u001b[0m\u001b[0mnanmean\u001b[0m\u001b[1;33m(\u001b[0m\u001b[0mcheckPerformanceFinal\u001b[0m\u001b[1;33m(\u001b[0m\u001b[0msplitFTFU\u001b[0m\u001b[1;33m,\u001b[0m \u001b[0musersFTU\u001b[0m\u001b[1;33m)\u001b[0m\u001b[1;33m,\u001b[0m\u001b[0maxis\u001b[0m\u001b[1;33m=\u001b[0m\u001b[1;36m0\u001b[0m\u001b[1;33m)\u001b[0m\u001b[1;33m\u001b[0m\u001b[0m\n\u001b[0;32m     41\u001b[0m \u001b[0mpcfinFF\u001b[0m \u001b[1;33m=\u001b[0m \u001b[0mnp\u001b[0m\u001b[1;33m.\u001b[0m\u001b[0mnanmean\u001b[0m\u001b[1;33m(\u001b[0m\u001b[0mcheckPerformanceFinal\u001b[0m\u001b[1;33m(\u001b[0m\u001b[0msplitFF\u001b[0m\u001b[1;33m,\u001b[0m \u001b[0musersF\u001b[0m\u001b[1;33m)\u001b[0m\u001b[1;33m,\u001b[0m\u001b[0maxis\u001b[0m\u001b[1;33m=\u001b[0m\u001b[1;36m0\u001b[0m\u001b[1;33m)\u001b[0m\u001b[1;33m\u001b[0m\u001b[0m\n\u001b[1;32m---> 42\u001b[1;33m \u001b[0mpcfinSI\u001b[0m \u001b[1;33m=\u001b[0m \u001b[0mnp\u001b[0m\u001b[1;33m.\u001b[0m\u001b[0mmean\u001b[0m\u001b[1;33m(\u001b[0m\u001b[0mcheckPerformanceTest\u001b[0m\u001b[1;33m(\u001b[0m\u001b[0msplitInfSTe\u001b[0m\u001b[1;33m,\u001b[0m \u001b[0musersSI\u001b[0m\u001b[1;33m)\u001b[0m\u001b[1;33m,\u001b[0m \u001b[0maxis\u001b[0m\u001b[1;33m=\u001b[0m\u001b[1;36m0\u001b[0m\u001b[1;33m)\u001b[0m\u001b[1;33m\u001b[0m\u001b[0m\n\u001b[0m\u001b[0;32m     43\u001b[0m \u001b[0mpcfinSU\u001b[0m \u001b[1;33m=\u001b[0m \u001b[0mnp\u001b[0m\u001b[1;33m.\u001b[0m\u001b[0mmean\u001b[0m\u001b[1;33m(\u001b[0m\u001b[0mcheckPerformanceTest\u001b[0m\u001b[1;33m(\u001b[0m\u001b[0msplitUniSTe\u001b[0m\u001b[1;33m,\u001b[0m \u001b[0musersSU\u001b[0m\u001b[1;33m)\u001b[0m\u001b[1;33m,\u001b[0m \u001b[0maxis\u001b[0m\u001b[1;33m=\u001b[0m\u001b[1;36m0\u001b[0m\u001b[1;33m)\u001b[0m\u001b[1;33m\u001b[0m\u001b[0m\n",
      "\u001b[1;32m<ipython-input-13-cde3f09bd52c>\u001b[0m in \u001b[0;36mcheckPerformanceTest\u001b[1;34m(arr, usersArr)\u001b[0m\n\u001b[0;32m     10\u001b[0m         \u001b[0mpcTask\u001b[0m \u001b[1;33m=\u001b[0m \u001b[1;33m[\u001b[0m\u001b[1;33m]\u001b[0m\u001b[1;33m\u001b[0m\u001b[0m\n\u001b[0;32m     11\u001b[0m         \u001b[1;32mfor\u001b[0m \u001b[0mt\u001b[0m \u001b[1;32min\u001b[0m \u001b[0mrange\u001b[0m\u001b[1;33m(\u001b[0m\u001b[0mtasks\u001b[0m\u001b[1;33m)\u001b[0m\u001b[1;33m:\u001b[0m\u001b[1;33m\u001b[0m\u001b[0m\n\u001b[1;32m---> 12\u001b[1;33m             \u001b[0mtmpT\u001b[0m \u001b[1;33m=\u001b[0m \u001b[0mtmpU\u001b[0m\u001b[1;33m[\u001b[0m\u001b[0mtmpU\u001b[0m\u001b[1;33m[\u001b[0m\u001b[1;33m:\u001b[0m\u001b[1;33m,\u001b[0m\u001b[1;36m1\u001b[0m\u001b[1;33m]\u001b[0m \u001b[1;33m==\u001b[0m \u001b[0mt\u001b[0m\u001b[1;33m]\u001b[0m\u001b[1;33m\u001b[0m\u001b[0m\n\u001b[0m\u001b[0;32m     13\u001b[0m             \u001b[1;31m# Get PC for this task\u001b[0m\u001b[1;33m\u001b[0m\u001b[1;33m\u001b[0m\u001b[0m\n\u001b[0;32m     14\u001b[0m             \u001b[0mpcTask\u001b[0m\u001b[1;33m.\u001b[0m\u001b[0mappend\u001b[0m\u001b[1;33m(\u001b[0m\u001b[0mnp\u001b[0m\u001b[1;33m.\u001b[0m\u001b[0msum\u001b[0m\u001b[1;33m(\u001b[0m\u001b[0mtmpT\u001b[0m\u001b[1;33m[\u001b[0m\u001b[1;33m:\u001b[0m\u001b[1;33m,\u001b[0m\u001b[1;36m2\u001b[0m\u001b[1;33m]\u001b[0m\u001b[1;33m==\u001b[0m\u001b[1;36m1\u001b[0m\u001b[1;33m)\u001b[0m \u001b[1;33m/\u001b[0m \u001b[0mnp\u001b[0m\u001b[1;33m.\u001b[0m\u001b[0mshape\u001b[0m\u001b[1;33m(\u001b[0m\u001b[0mtmpT\u001b[0m\u001b[1;33m[\u001b[0m\u001b[1;33m:\u001b[0m\u001b[1;33m,\u001b[0m\u001b[1;36m2\u001b[0m\u001b[1;33m]\u001b[0m\u001b[1;33m)\u001b[0m\u001b[1;33m[\u001b[0m\u001b[1;36m0\u001b[0m\u001b[1;33m]\u001b[0m\u001b[1;33m)\u001b[0m\u001b[1;33m\u001b[0m\u001b[0m\n",
      "\u001b[1;31mIndexError\u001b[0m: index 1 is out of bounds for axis 1 with size 1"
     ]
    }
   ],
   "source": [
    "# Get Percent Correct\n",
    "\n",
    "# Check performance during test\n",
    "def checkPerformanceTest(arr, usersArr):\n",
    "    # Stores percentage correct per user\n",
    "    pcUser = []\n",
    "    # Go through every user and only extract the PC of each task\n",
    "    for u in range(usersArr):\n",
    "        tmpU = arr[u]\n",
    "        pcTask = []\n",
    "        for t in range(tasks):\n",
    "            tmpT = tmpU[tmpU[:,1] == t]\n",
    "            # Get PC for this task\n",
    "            pcTask.append(np.sum(tmpT[:,2]==1) / np.shape(tmpT[:,2])[0])\n",
    "        pcUser.append(pcTask)\n",
    "    return np.asarray(pcUser)\n",
    "\n",
    "# Go through every user and extract the last 15 attempts at each task (if possible)\n",
    "def checkPerformanceFinal(arr, usersArr, getLast=15):\n",
    "    # Stores percentage correct per user\n",
    "    pcUser = []\n",
    "    # Go through every user and only extract the PC of each task\n",
    "    for u in range(usersArr):\n",
    "        tmpU = arr[u]\n",
    "        pcTask = []\n",
    "        for t in range(tasks):\n",
    "            tmpT = tmpU[tmpU[:,1] == t]\n",
    "            \n",
    "            if np.shape(tmpT)[0] == 0:\n",
    "                pcTask.append(np.nan)\n",
    "            else:\n",
    "                # Get last 15\n",
    "                tmpT = tmpT[-getLast:,:]\n",
    "                # Get PC for this task\n",
    "                pcTask.append(np.mean(tmpT[:,2]))\n",
    "        pcUser.append(pcTask)\n",
    "    return np.asarray(pcUser)\n",
    "\n",
    "pcfinFTFI = np.nanmean(checkPerformanceFinal(splitFTFI, usersFTI),axis=0)\n",
    "pcfinFTFU = np.nanmean(checkPerformanceFinal(splitFTFU, usersFTU),axis=0)\n",
    "pcfinFF = np.nanmean(checkPerformanceFinal(splitFF, usersF),axis=0)\n",
    "pcfinSI = np.mean(checkPerformanceTest(splitInfSTe, usersSI), axis=0)\n",
    "pcfinSU = np.mean(checkPerformanceTest(splitUniSTe, usersSU), axis=0)"
   ]
  },
  {
   "cell_type": "code",
   "execution_count": 14,
   "metadata": {
    "collapsed": true
   },
   "outputs": [],
   "source": [
    "def plotBarTasks(arrF, arrFTI, arrFTU, arrSI, arrSU, title, ylabel):\n",
    "    ind = np.arange(tasks)  # the x locations for the groups\n",
    "    width = 0.15       # the width of the bars\n",
    "    fig, ax = plt.subplots(figsize=(12, 5))\n",
    "    rects1 = ax.bar(ind, arrF, width, color='r')\n",
    "    rects2 = ax.bar(ind+width, arrFTI, width, color='b')\n",
    "    rects3 = ax.bar(ind+width*2, arrFTU, width, color='g')\n",
    "    rects4 = ax.bar(ind+width*3, arrSI, width, color='c')\n",
    "    rects5 = ax.bar(ind+width*4, arrSU, width, color='m')\n",
    "\n",
    "    # add some text for labels, title and axes ticks\n",
    "    ax.set_ylabel(ylabel)\n",
    "    ax.set_title(title)\n",
    "    ax.set_xticks(ind + width / 2)\n",
    "    ax.set_xticklabels(('1D', 'I1D', '2D', 'R'))\n",
    "    ax.legend((rects1[0], rects2[0], rects3[0], rects4[0], rects5[0]), \n",
    "              ('Free', 'Train+Free Informed', 'Train+Free Uninformed', 'Strategic Informed', 'Strategic Uninformed'))"
   ]
  },
  {
   "cell_type": "code",
   "execution_count": 15,
   "metadata": {
    "collapsed": false
   },
   "outputs": [
    {
     "ename": "NameError",
     "evalue": "name 'pcfinSI' is not defined",
     "output_type": "error",
     "traceback": [
      "\u001b[1;31m---------------------------------------------------------------------------\u001b[0m",
      "\u001b[1;31mNameError\u001b[0m                                 Traceback (most recent call last)",
      "\u001b[1;32m<ipython-input-15-5350eb0b3c76>\u001b[0m in \u001b[0;36m<module>\u001b[1;34m()\u001b[0m\n\u001b[1;32m----> 1\u001b[1;33m \u001b[0mplotBarTasks\u001b[0m\u001b[1;33m(\u001b[0m\u001b[0mpcfinFF\u001b[0m\u001b[1;33m,\u001b[0m \u001b[0mpcfinFTFI\u001b[0m\u001b[1;33m,\u001b[0m \u001b[0mpcfinFTFU\u001b[0m\u001b[1;33m,\u001b[0m \u001b[0mpcfinSI\u001b[0m\u001b[1;33m,\u001b[0m \u001b[0mpcfinSU\u001b[0m\u001b[1;33m,\u001b[0m \u001b[1;34m'Final performance'\u001b[0m\u001b[1;33m,\u001b[0m \u001b[1;34m'Success rate'\u001b[0m\u001b[1;33m)\u001b[0m\u001b[1;33m\u001b[0m\u001b[0m\n\u001b[0m",
      "\u001b[1;31mNameError\u001b[0m: name 'pcfinSI' is not defined"
     ]
    }
   ],
   "source": [
    "plotBarTasks(pcfinFF, pcfinFTFI, pcfinFTFU, pcfinSI, pcfinSU, 'Final performance', 'Success rate')"
   ]
  },
  {
   "cell_type": "markdown",
   "metadata": {},
   "source": [
    "<a id='A2'></a>\n",
    "## Average General and Final performance"
   ]
  },
  {
   "cell_type": "code",
   "execution_count": 16,
   "metadata": {
    "collapsed": true
   },
   "outputs": [],
   "source": [
    "def plotBarModes(arr, title, ylabel):\n",
    "    ind = np.arange(5)  # the x locations for the groups\n",
    "    width = 0.35       # the width of the bars\n",
    "    fig, ax = plt.subplots(figsize=(10, 5))\n",
    "    rects1 = ax.bar(ind, arr, width)\n",
    "    rects1[0].set_color('r')\n",
    "    rects1[1].set_color('b')\n",
    "    rects1[2].set_color('g')\n",
    "    rects1[3].set_color('c')\n",
    "    rects1[4].set_color('m')\n",
    "    # add some text for labels, title and axes ticks\n",
    "    ax.set_ylabel(ylabel)\n",
    "    ax.set_title(title)\n",
    "    ax.set_xticks(ind + width / 2)\n",
    "    ax.set_xticklabels(('Free', 'T+F Inf', 'T+F Uni', 'S Inf', 'S Uni'))"
   ]
  },
  {
   "cell_type": "code",
   "execution_count": 17,
   "metadata": {
    "collapsed": false
   },
   "outputs": [
    {
     "ename": "NameError",
     "evalue": "name 'pcfinSI' is not defined",
     "output_type": "error",
     "traceback": [
      "\u001b[1;31m---------------------------------------------------------------------------\u001b[0m",
      "\u001b[1;31mNameError\u001b[0m                                 Traceback (most recent call last)",
      "\u001b[1;32m<ipython-input-17-9fae53f643f6>\u001b[0m in \u001b[0;36m<module>\u001b[1;34m()\u001b[0m\n\u001b[0;32m     14\u001b[0m \u001b[0mmeanGenPerf\u001b[0m \u001b[1;33m=\u001b[0m \u001b[1;33m[\u001b[0m\u001b[0mnp\u001b[0m\u001b[1;33m.\u001b[0m\u001b[0mmean\u001b[0m\u001b[1;33m(\u001b[0m\u001b[0mdataFE\u001b[0m\u001b[1;33m[\u001b[0m\u001b[1;33m:\u001b[0m\u001b[1;33m,\u001b[0m\u001b[1;36m2\u001b[0m\u001b[1;33m]\u001b[0m\u001b[1;33m)\u001b[0m\u001b[1;33m,\u001b[0m\u001b[0mnp\u001b[0m\u001b[1;33m.\u001b[0m\u001b[0mmean\u001b[0m\u001b[1;33m(\u001b[0m\u001b[0mdataFTEI\u001b[0m\u001b[1;33m[\u001b[0m\u001b[1;33m:\u001b[0m\u001b[1;33m,\u001b[0m\u001b[1;36m4\u001b[0m\u001b[1;33m]\u001b[0m\u001b[1;33m)\u001b[0m\u001b[1;33m,\u001b[0m\u001b[0mnp\u001b[0m\u001b[1;33m.\u001b[0m\u001b[0mmean\u001b[0m\u001b[1;33m(\u001b[0m\u001b[0mdataFTEU\u001b[0m\u001b[1;33m[\u001b[0m\u001b[1;33m:\u001b[0m\u001b[1;33m,\u001b[0m\u001b[1;36m4\u001b[0m\u001b[1;33m]\u001b[0m\u001b[1;33m)\u001b[0m\u001b[1;33m,\u001b[0m\u001b[0mnp\u001b[0m\u001b[1;33m.\u001b[0m\u001b[0mmean\u001b[0m\u001b[1;33m(\u001b[0m\u001b[0mdataSEI\u001b[0m\u001b[1;33m[\u001b[0m\u001b[1;33m:\u001b[0m\u001b[1;33m,\u001b[0m\u001b[1;36m4\u001b[0m\u001b[1;33m]\u001b[0m\u001b[1;33m)\u001b[0m\u001b[1;33m,\u001b[0m\u001b[0mnp\u001b[0m\u001b[1;33m.\u001b[0m\u001b[0mmean\u001b[0m\u001b[1;33m(\u001b[0m\u001b[0mdataSEU\u001b[0m\u001b[1;33m[\u001b[0m\u001b[1;33m:\u001b[0m\u001b[1;33m,\u001b[0m\u001b[1;36m4\u001b[0m\u001b[1;33m]\u001b[0m\u001b[1;33m)\u001b[0m\u001b[1;33m]\u001b[0m\u001b[1;33m\u001b[0m\u001b[0m\n\u001b[0;32m     15\u001b[0m \u001b[0mplotBarModes\u001b[0m\u001b[1;33m(\u001b[0m\u001b[0mmeanGenPerf\u001b[0m\u001b[1;33m,\u001b[0m \u001b[1;34m'Average General Performance'\u001b[0m\u001b[1;33m,\u001b[0m \u001b[1;34m'Success'\u001b[0m\u001b[1;33m)\u001b[0m\u001b[1;33m\u001b[0m\u001b[0m\n\u001b[1;32m---> 16\u001b[1;33m \u001b[0mmeanFinalPerf\u001b[0m \u001b[1;33m=\u001b[0m \u001b[1;33m[\u001b[0m\u001b[0mnp\u001b[0m\u001b[1;33m.\u001b[0m\u001b[0mmean\u001b[0m\u001b[1;33m(\u001b[0m\u001b[0mpcfinFTFI\u001b[0m\u001b[1;33m)\u001b[0m\u001b[1;33m,\u001b[0m \u001b[0mnp\u001b[0m\u001b[1;33m.\u001b[0m\u001b[0mmean\u001b[0m\u001b[1;33m(\u001b[0m\u001b[0mpcfinFTFU\u001b[0m\u001b[1;33m)\u001b[0m\u001b[1;33m,\u001b[0m \u001b[0mnp\u001b[0m\u001b[1;33m.\u001b[0m\u001b[0mmean\u001b[0m\u001b[1;33m(\u001b[0m\u001b[0mpcfinFF\u001b[0m\u001b[1;33m)\u001b[0m\u001b[1;33m,\u001b[0m \u001b[0mnp\u001b[0m\u001b[1;33m.\u001b[0m\u001b[0mmean\u001b[0m\u001b[1;33m(\u001b[0m\u001b[0mpcfinSI\u001b[0m\u001b[1;33m)\u001b[0m\u001b[1;33m,\u001b[0m \u001b[0mnp\u001b[0m\u001b[1;33m.\u001b[0m\u001b[0mmean\u001b[0m\u001b[1;33m(\u001b[0m\u001b[0mpcfinSU\u001b[0m\u001b[1;33m)\u001b[0m\u001b[1;33m]\u001b[0m\u001b[1;33m\u001b[0m\u001b[0m\n\u001b[0m\u001b[0;32m     17\u001b[0m \u001b[0mplotBarModes\u001b[0m\u001b[1;33m(\u001b[0m\u001b[0mmeanFinalPerf\u001b[0m\u001b[1;33m,\u001b[0m \u001b[1;34m'Average Final Performance'\u001b[0m\u001b[1;33m,\u001b[0m \u001b[1;34m'Success'\u001b[0m\u001b[1;33m)\u001b[0m\u001b[1;33m\u001b[0m\u001b[0m\n",
      "\u001b[1;31mNameError\u001b[0m: name 'pcfinSI' is not defined"
     ]
    },
    {
     "data": {
      "image/png": "[encoded data removed]",
      "text/plain": [
       "<matplotlib.figure.Figure at 0x7fe5582d0550>"
      ]
     },
     "metadata": {},
     "output_type": "display_data"
    }
   ],
   "source": [
    "# During free exploration for all tasks how many successes did they get?\n",
    "# Get everything during free exploration\n",
    "dataFE = csvIntF.copy()\n",
    "dataFTE = csvIntFT[csvIntFT[:,2]==0]\n",
    "dataS = csvIntS.copy()\n",
    "dataSE = dataS[dataS[:,2]==0]\n",
    "# Split by condition\n",
    "dataFTEI = dataFTE[dataFTE[:,1] == 0]\n",
    "dataFTEU = dataFTE[dataFTE[:,1] == 1]\n",
    "dataSEI = dataSE[dataSE[:,1] == 0]\n",
    "dataSEU = dataSE[dataSE[:,1] == 1]\n",
    "\n",
    "# General performance\n",
    "meanGenPerf = [np.mean(dataFE[:,2]),np.mean(dataFTEI[:,4]),np.mean(dataFTEU[:,4]),np.mean(dataSEI[:,4]),np.mean(dataSEU[:,4])]\n",
    "plotBarModes(meanGenPerf, 'Average General Performance', 'Success')\n",
    "meanFinalPerf = [np.mean(pcfinFTFI), np.mean(pcfinFTFU), np.mean(pcfinFF), np.mean(pcfinSI), np.mean(pcfinSU)]\n",
    "plotBarModes(meanFinalPerf, 'Average Final Performance', 'Success')"
   ]
  },
  {
   "cell_type": "markdown",
   "metadata": {},
   "source": [
    "<a id='A3'></a>\n",
    "## Average General Selection"
   ]
  },
  {
   "cell_type": "code",
   "execution_count": 18,
   "metadata": {
    "collapsed": false
   },
   "outputs": [
    {
     "data": {
      "image/png": "[encoded data removed]",
      "text/plain": [
       "<matplotlib.figure.Figure at 0x7fe51ac8b4d0>"
      ]
     },
     "metadata": {},
     "output_type": "display_data"
    }
   ],
   "source": [
    "# CHECK GENERAL TASK SELECTION (e.g. i could have chosen task 1 as much as 250 times but i chose it 25 only so 10%)\n",
    "# GLOBAL POPULATION LEVEL\n",
    "def selectionGlobal(arr):\n",
    "    _,counts = np.unique(arr[:,-2], return_counts=True)\n",
    "    return counts/np.sum(counts)\n",
    "\n",
    "u,cFE = np.unique(dataFE[:,-2], return_counts=True)\n",
    "u,cFTEI = np.unique(dataFTEI[:,-2], return_counts=True)\n",
    "u,cFTEU = np.unique(dataFTEU[:,-2], return_counts=True)\n",
    "u,cSEI = np.unique(dataSEI[:,-2], return_counts=True)\n",
    "u,cSEU = np.unique(dataSEU[:,-2], return_counts=True)\n",
    "\n",
    "# AVERAGED BY PEOPLE\n",
    "#print(splitCsvF)\n",
    "def selectionPercent(arr, userArr):\n",
    "    selUser = []\n",
    "    for u in range(userArr):\n",
    "        selTask = []\n",
    "        for t in range(tasks):\n",
    "            selTask.append(np.sum(arr[u][:,1]==t))\n",
    "        selUser.append(selTask)    \n",
    "    selUser = np.asarray(selUser)\n",
    "    # Get proportions then get mean\n",
    "    selpc = selUser/selUser.sum(axis=1)[:,None]\n",
    "    mselpc = np.mean(selpc,axis=0)\n",
    "    #print(selpc)\n",
    "    return mselpc\n",
    "\n",
    "selF = selectionPercent(splitCsvF, usersF)\n",
    "selFTI = selectionPercent(splitCsvFTI, usersFTI)\n",
    "selFTU = selectionPercent(splitCsvFTU, usersFTU)\n",
    "selSI = selectionPercent(splitCsvSI, usersSI)\n",
    "selSU = selectionPercent(splitCsvSU, usersSU)\n",
    "\n",
    "plotBarTasks(selF, selFTI, selFTU, selSI, selSU, 'Task Selection (Averaged over each subject proportion)', 'Proportion')"
   ]
  },
  {
   "cell_type": "code",
   "execution_count": null,
   "metadata": {
    "collapsed": true
   },
   "outputs": [],
   "source": []
  }
 ],
 "metadata": {
  "kernelspec": {
   "display_name": "Python 2",
   "language": "python",
   "name": "python2"
  },
  "language_info": {
   "codemirror_mode": {
    "name": "ipython",
    "version": 2
   },
   "file_extension": ".py",
   "mimetype": "text/x-python",
   "name": "python",
   "nbconvert_exporter": "python",
   "pygments_lexer": "ipython2",
   "version": "2.7.12"
  }
 },
 "nbformat": 4,
 "nbformat_minor": 0
}

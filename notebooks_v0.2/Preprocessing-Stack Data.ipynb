{
 "cells": [
  {
   "cell_type": "markdown",
   "metadata": {},
   "source": [
    "# Stack self reported answers and metrics\n",
    "\n",
    "These matrices contain the performance and selection statistics gathered from the experimental observations and stack them with the self-reported answers. Since there are four tasks, for each subject there are four row vectors that contain their respective data:\n",
    "\n",
    "* 0 - User Id\n",
    "* 1 - Category/Task complexity\n",
    "* 2 - Number of times this task was selected\n",
    "* 3 - % this task was selected\n",
    "* 4 - Number of times correct on this task\n",
    "* 5 - % corect on this task\n",
    "* 6-11 - Self reported answers for this task"
   ]
  },
  {
   "cell_type": "code",
   "execution_count": 1,
   "metadata": {
    "collapsed": false
   },
   "outputs": [
    {
     "name": "stderr",
     "output_type": "stream",
     "text": [
      "/usr/lib/python2.7/dist-packages/matplotlib/font_manager.py:273: UserWarning: Matplotlib is building the font cache using fc-list. This may take a moment.\n",
      "  warnings.warn('Matplotlib is building the font cache using fc-list. This may take a moment.')\n",
      "/usr/local/lib/python2.7/dist-packages/IPython/html.py:14: ShimWarning: The `IPython.html` package has been deprecated. You should import from `notebook` instead. `IPython.html.widgets` has moved to `ipywidgets`.\n",
      "  \"`IPython.html.widgets` has moved to `ipywidgets`.\", ShimWarning)\n"
     ]
    }
   ],
   "source": [
    "%matplotlib inline\n",
    "import numpy as np\n",
    "import matplotlib.pyplot as plt\n",
    "import matplotlib.cm as cm\n",
    "from matplotlib import rcParams\n",
    "import pandas as pd\n",
    "import warnings\n",
    "\n",
    "from scipy.stats import beta\n",
    "\n",
    "from ipywidgets import widgets\n",
    "from IPython.html.widgets import *\n",
    "\n",
    "warnings.filterwarnings('ignore')\n",
    "rcParams.update({'font.size': 15})\n",
    "#plt.style.use('ggplot')\n",
    "#plt.style.use('seaborn-dark-palette')\n",
    "plt.style.use('fivethirtyeight')\n",
    "\n",
    "float_formatter = lambda x: \"%.2f\" % x\n",
    "np.set_printoptions(formatter={'float_kind':float_formatter})\n",
    "np.set_printoptions(precision=2)"
   ]
  },
  {
   "cell_type": "code",
   "execution_count": 2,
   "metadata": {
    "collapsed": true
   },
   "outputs": [],
   "source": [
    "def stringToInt(arr, position, values):\n",
    "    for i, v in enumerate(values):\n",
    "        arr[arr[:,position] == v, position] = i\n",
    "    return arr"
   ]
  },
  {
   "cell_type": "markdown",
   "metadata": {},
   "source": [
    "## Free Exploration Only"
   ]
  },
  {
   "cell_type": "code",
   "execution_count": 3,
   "metadata": {
    "collapsed": false
   },
   "outputs": [
    {
     "data": {
      "text/plain": [
       "\"\\n#user(0), cat-task complexity(1), # task selec(2), % sele(3), # correct on task(4), % correct(5), answers(7:12)\\nfree = np.loadtxt('../generated-data/free-free.txt')\\nprint('Free Exploration - general metrics loaded')\\n\""
      ]
     },
     "execution_count": 3,
     "metadata": {},
     "output_type": "execute_result"
    }
   ],
   "source": [
    "# Load free exploration\n",
    "'''\n",
    "#user(0), cat-task complexity(1), # task selec(2), % sele(3), # correct on task(4), % correct(5), answers(7:12)\n",
    "free = np.loadtxt('../generated-data/free-free.txt')\n",
    "print('Free Exploration - general metrics loaded')\n",
    "'''"
   ]
  },
  {
   "cell_type": "markdown",
   "metadata": {},
   "source": [
    "## Free Exploration with Training\n",
    "\n",
    "Loads the training and the free exploration part separately, but also they are stacked together to form a unique matrix."
   ]
  },
  {
   "cell_type": "code",
   "execution_count": 4,
   "metadata": {
    "collapsed": false
   },
   "outputs": [
    {
     "name": "stdout",
     "output_type": "stream",
     "text": [
      "Free Exploration with Training - general metrics loaded\n"
     ]
    }
   ],
   "source": [
    "# Load free exploration with training\n",
    "#user(0),condition(1), cat-task complexity(2), # task selec(3), % sele(4), # correct on task(5), % correct() (6), answers(7:13) \n",
    "freeTTr = np.genfromtxt('../generated-data/freeTrain-train_0.4.csv',delimiter=',') \n",
    "freeTFr = np.genfromtxt('../generated-data/freeTrain-free_0.4.csv',delimiter=',')\n",
    "\n",
    "# Integrate all significant metrics\n",
    "# to make things easier take free exploration data and subjective answers first, then stack performance from \n",
    "# the other two phases\n",
    "\n",
    "# Just for verification purposes\n",
    "if freeTFr.shape[0] == freeTTr.shape[0]:\n",
    "    #user(0),condition(1), cat-task complexity(2), # task selec(3), % sele(4), # correct on task(5), % correct() (6), answers(7:13),# correct on task(14), % correct() (15) \n",
    "    freeT = np.hstack((freeTFr, freeTTr[:,7:], freeTTr[:,5:7]))\n",
    "    \n",
    "    print('Free Exploration with Training - general metrics loaded')\n",
    "else:\n",
    "    print('columns do not match, someone did not select all tasks')"
   ]
  },
  {
   "cell_type": "markdown",
   "metadata": {},
   "source": [
    "## Strategic Learning Preprocessing\n",
    "\n",
    "Similarly the following code loads the matrices for each stage (Training, Free Exploration and Testing) separately and also all of them together."
   ]
  },
  {
   "cell_type": "code",
   "execution_count": 5,
   "metadata": {
    "collapsed": false
   },
   "outputs": [
    {
     "name": "stdout",
     "output_type": "stream",
     "text": [
      "Strategic Learning - general metrics loaded\n"
     ]
    }
   ],
   "source": [
    "# Load strategic learning\n",
    "#user(0),condition(1), cat-task complexity(2), # task selec(3), % sele(4), # correct on task(5), % correct(6), answers(7:13), # correct on task(14), % correct() (15) \n",
    "straTe = np.genfromtxt('../generated-data/strategic-test_0.4.csv',delimiter=',')\n",
    "straTr = np.genfromtxt('../generated-data/strategic-train_0.4.csv',delimiter=',')\n",
    "straFr = np.genfromtxt('../generated-data/strategic-free_0.4.csv',delimiter=',')\n",
    "\n",
    "\n",
    "# Integrate all significant metrics\n",
    "# to make things easier take free exploration data and subjective answers first, then stack performance from \n",
    "# the other two phases\n",
    "\n",
    "# Just for verification purposes\n",
    "if straFr.shape[0] == straTr.shape[0] and straFr.shape[0] == straTe.shape[0]:\n",
    "    #print(spilotFr[:,5:7], spilotTr[:,5:7], spilotTe[:,5:7])\n",
    "    stra = np.hstack((straFr, straTr[:,7:], straTr[:,5:7], straTe[:,5:7]))\n",
    "    print('Strategic Learning - general metrics loaded')\n",
    "else:\n",
    "    print('columns do not match, someone did not select all tasks')"
   ]
  },
  {
   "cell_type": "code",
   "execution_count": null,
   "metadata": {
    "collapsed": true
   },
   "outputs": [],
   "source": []
  }
 ],
 "metadata": {
  "kernelspec": {
   "display_name": "Python 2",
   "language": "python",
   "name": "python2"
  },
  "language_info": {
   "codemirror_mode": {
    "name": "ipython",
    "version": 2
   },
   "file_extension": ".py",
   "mimetype": "text/x-python",
   "name": "python",
   "nbconvert_exporter": "python",
   "pygments_lexer": "ipython2",
   "version": "2.7.12"
  }
 },
 "nbformat": 4,
 "nbformat_minor": 0
}
